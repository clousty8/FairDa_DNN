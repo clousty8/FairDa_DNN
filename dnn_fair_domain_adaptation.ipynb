{
  "nbformat": 4,
  "nbformat_minor": 0,
  "metadata": {
    "colab": {
      "provenance": []
    },
    "kernelspec": {
      "name": "python3",
      "display_name": "Python 3"
    },
    "language_info": {
      "name": "python"
    }
  },
  "cells": [
    {
      "cell_type": "markdown",
      "source": [
        "# FairDa reimplementation on Adult dataset"
      ],
      "metadata": {
        "id": "kDQmcarN3ETS"
      }
    },
    {
      "cell_type": "code",
      "source": [
        "from sklearn.metrics import accuracy_score, f1_score"
      ],
      "metadata": {
        "id": "Ib7h_t_Mysfx"
      },
      "execution_count": 1,
      "outputs": []
    },
    {
      "cell_type": "code",
      "source": [
        "!pip install fairlearn"
      ],
      "metadata": {
        "colab": {
          "base_uri": "https://localhost:8080/"
        },
        "id": "kfzeE0Dc1M9R",
        "outputId": "4c9ca865-dc67-4f84-900b-f035bc44934d"
      },
      "execution_count": 2,
      "outputs": [
        {
          "output_type": "stream",
          "name": "stdout",
          "text": [
            "Collecting fairlearn\n",
            "  Downloading fairlearn-0.10.0-py3-none-any.whl (234 kB)\n",
            "\u001b[2K     \u001b[90m━━━━━━━━━━━━━━━━━━━━━━━━━━━━━━━━━━━━━━━━\u001b[0m \u001b[32m234.1/234.1 kB\u001b[0m \u001b[31m4.6 MB/s\u001b[0m eta \u001b[36m0:00:00\u001b[0m\n",
            "\u001b[?25hCollecting numpy>=1.24.4 (from fairlearn)\n",
            "  Downloading numpy-1.26.3-cp310-cp310-manylinux_2_17_x86_64.manylinux2014_x86_64.whl (18.2 MB)\n",
            "\u001b[2K     \u001b[90m━━━━━━━━━━━━━━━━━━━━━━━━━━━━━━━━━━━━━━━━\u001b[0m \u001b[32m18.2/18.2 MB\u001b[0m \u001b[31m61.6 MB/s\u001b[0m eta \u001b[36m0:00:00\u001b[0m\n",
            "\u001b[?25hCollecting pandas>=2.0.3 (from fairlearn)\n",
            "  Downloading pandas-2.2.0-cp310-cp310-manylinux_2_17_x86_64.manylinux2014_x86_64.whl (13.0 MB)\n",
            "\u001b[2K     \u001b[90m━━━━━━━━━━━━━━━━━━━━━━━━━━━━━━━━━━━━━━━━\u001b[0m \u001b[32m13.0/13.0 MB\u001b[0m \u001b[31m82.4 MB/s\u001b[0m eta \u001b[36m0:00:00\u001b[0m\n",
            "\u001b[?25hRequirement already satisfied: scikit-learn>=1.2.1 in /usr/local/lib/python3.10/dist-packages (from fairlearn) (1.2.2)\n",
            "Requirement already satisfied: scipy>=1.9.3 in /usr/local/lib/python3.10/dist-packages (from fairlearn) (1.11.4)\n",
            "Requirement already satisfied: python-dateutil>=2.8.2 in /usr/local/lib/python3.10/dist-packages (from pandas>=2.0.3->fairlearn) (2.8.2)\n",
            "Requirement already satisfied: pytz>=2020.1 in /usr/local/lib/python3.10/dist-packages (from pandas>=2.0.3->fairlearn) (2023.4)\n",
            "Collecting tzdata>=2022.7 (from pandas>=2.0.3->fairlearn)\n",
            "  Downloading tzdata-2023.4-py2.py3-none-any.whl (346 kB)\n",
            "\u001b[2K     \u001b[90m━━━━━━━━━━━━━━━━━━━━━━━━━━━━━━━━━━━━━━━━\u001b[0m \u001b[32m346.6/346.6 kB\u001b[0m \u001b[31m34.6 MB/s\u001b[0m eta \u001b[36m0:00:00\u001b[0m\n",
            "\u001b[?25hRequirement already satisfied: joblib>=1.1.1 in /usr/local/lib/python3.10/dist-packages (from scikit-learn>=1.2.1->fairlearn) (1.3.2)\n",
            "Requirement already satisfied: threadpoolctl>=2.0.0 in /usr/local/lib/python3.10/dist-packages (from scikit-learn>=1.2.1->fairlearn) (3.2.0)\n",
            "Requirement already satisfied: six>=1.5 in /usr/local/lib/python3.10/dist-packages (from python-dateutil>=2.8.2->pandas>=2.0.3->fairlearn) (1.16.0)\n",
            "Installing collected packages: tzdata, numpy, pandas, fairlearn\n",
            "  Attempting uninstall: numpy\n",
            "    Found existing installation: numpy 1.23.5\n",
            "    Uninstalling numpy-1.23.5:\n",
            "      Successfully uninstalled numpy-1.23.5\n",
            "  Attempting uninstall: pandas\n",
            "    Found existing installation: pandas 1.5.3\n",
            "    Uninstalling pandas-1.5.3:\n",
            "      Successfully uninstalled pandas-1.5.3\n",
            "\u001b[31mERROR: pip's dependency resolver does not currently take into account all the packages that are installed. This behaviour is the source of the following dependency conflicts.\n",
            "lida 0.0.10 requires fastapi, which is not installed.\n",
            "lida 0.0.10 requires kaleido, which is not installed.\n",
            "lida 0.0.10 requires python-multipart, which is not installed.\n",
            "lida 0.0.10 requires uvicorn, which is not installed.\n",
            "bigframes 0.20.0 requires pandas<2.1.4,>=1.5.0, but you have pandas 2.2.0 which is incompatible.\n",
            "google-colab 1.0.0 requires pandas==1.5.3, but you have pandas 2.2.0 which is incompatible.\u001b[0m\u001b[31m\n",
            "\u001b[0mSuccessfully installed fairlearn-0.10.0 numpy-1.26.3 pandas-2.2.0 tzdata-2023.4\n"
          ]
        }
      ]
    },
    {
      "cell_type": "markdown",
      "source": [
        "# Importing and adjusting data\n"
      ],
      "metadata": {
        "id": "q820ZPTuYu7G"
      }
    },
    {
      "cell_type": "code",
      "execution_count": 3,
      "metadata": {
        "id": "UI4Hv7wQjRVs"
      },
      "outputs": [],
      "source": [
        "import pandas as pd"
      ]
    },
    {
      "cell_type": "code",
      "source": [
        "df = pd.read_csv(\"adult.csv\", index_col=0, sep=\",\")\n",
        "\n",
        "list(df.columns)"
      ],
      "metadata": {
        "colab": {
          "base_uri": "https://localhost:8080/"
        },
        "id": "oH8bcue7jgyn",
        "outputId": "3a8b6e02-4be7-4c77-ecc5-4f00235aef56"
      },
      "execution_count": 4,
      "outputs": [
        {
          "output_type": "execute_result",
          "data": {
            "text/plain": [
              "['age',\n",
              " 'fnlwgt',\n",
              " 'education-num',\n",
              " 'capital-gain',\n",
              " 'capital-loss',\n",
              " 'hours-per-week',\n",
              " 'birth_year',\n",
              " 'workclass_ ?',\n",
              " 'workclass_ Federal-gov',\n",
              " 'workclass_ Local-gov',\n",
              " 'workclass_ Never-worked',\n",
              " 'workclass_ Private',\n",
              " 'workclass_ Self-emp-inc',\n",
              " 'workclass_ Self-emp-not-inc',\n",
              " 'workclass_ State-gov',\n",
              " 'workclass_ Without-pay',\n",
              " 'education_ 10th',\n",
              " 'education_ 11th',\n",
              " 'education_ 12th',\n",
              " 'education_ 1st-4th',\n",
              " 'education_ 5th-6th',\n",
              " 'education_ 7th-8th',\n",
              " 'education_ 9th',\n",
              " 'education_ Assoc-acdm',\n",
              " 'education_ Assoc-voc',\n",
              " 'education_ Bachelors',\n",
              " 'education_ Doctorate',\n",
              " 'education_ HS-grad',\n",
              " 'education_ Masters',\n",
              " 'education_ Preschool',\n",
              " 'education_ Prof-school',\n",
              " 'education_ Some-college',\n",
              " 'marital-status_ Divorced',\n",
              " 'marital-status_ Married-AF-spouse',\n",
              " 'marital-status_ Married-civ-spouse',\n",
              " 'marital-status_ Married-spouse-absent',\n",
              " 'marital-status_ Never-married',\n",
              " 'marital-status_ Separated',\n",
              " 'marital-status_ Widowed',\n",
              " 'occupation_ ?',\n",
              " 'occupation_ Adm-clerical',\n",
              " 'occupation_ Armed-Forces',\n",
              " 'occupation_ Craft-repair',\n",
              " 'occupation_ Exec-managerial',\n",
              " 'occupation_ Farming-fishing',\n",
              " 'occupation_ Handlers-cleaners',\n",
              " 'occupation_ Machine-op-inspct',\n",
              " 'occupation_ Other-service',\n",
              " 'occupation_ Priv-house-serv',\n",
              " 'occupation_ Prof-specialty',\n",
              " 'occupation_ Protective-serv',\n",
              " 'occupation_ Sales',\n",
              " 'occupation_ Tech-support',\n",
              " 'occupation_ Transport-moving',\n",
              " 'relationship_ Husband',\n",
              " 'relationship_ Not-in-family',\n",
              " 'relationship_ Other-relative',\n",
              " 'relationship_ Own-child',\n",
              " 'relationship_ Unmarried',\n",
              " 'relationship_ Wife',\n",
              " 'race_ Amer-Indian-Eskimo',\n",
              " 'race_ Asian-Pac-Islander',\n",
              " 'race_ Black',\n",
              " 'race_ Other',\n",
              " 'race_ White',\n",
              " 'sex_ Female',\n",
              " 'sex_ Male',\n",
              " 'native-country_ ?',\n",
              " 'native-country_ Cambodia',\n",
              " 'native-country_ Canada',\n",
              " 'native-country_ China',\n",
              " 'native-country_ Columbia',\n",
              " 'native-country_ Cuba',\n",
              " 'native-country_ Dominican-Republic',\n",
              " 'native-country_ Ecuador',\n",
              " 'native-country_ El-Salvador',\n",
              " 'native-country_ England',\n",
              " 'native-country_ France',\n",
              " 'native-country_ Germany',\n",
              " 'native-country_ Greece',\n",
              " 'native-country_ Guatemala',\n",
              " 'native-country_ Haiti',\n",
              " 'native-country_ Holand-Netherlands',\n",
              " 'native-country_ Honduras',\n",
              " 'native-country_ Hong',\n",
              " 'native-country_ Hungary',\n",
              " 'native-country_ India',\n",
              " 'native-country_ Iran',\n",
              " 'native-country_ Ireland',\n",
              " 'native-country_ Italy',\n",
              " 'native-country_ Jamaica',\n",
              " 'native-country_ Japan',\n",
              " 'native-country_ Laos',\n",
              " 'native-country_ Mexico',\n",
              " 'native-country_ Nicaragua',\n",
              " 'native-country_ Outlying-US(Guam-USVI-etc)',\n",
              " 'native-country_ Peru',\n",
              " 'native-country_ Philippines',\n",
              " 'native-country_ Poland',\n",
              " 'native-country_ Portugal',\n",
              " 'native-country_ Puerto-Rico',\n",
              " 'native-country_ Scotland',\n",
              " 'native-country_ South',\n",
              " 'native-country_ Taiwan',\n",
              " 'native-country_ Thailand',\n",
              " 'native-country_ Trinadad&Tobago',\n",
              " 'native-country_ United-States',\n",
              " 'native-country_ Vietnam',\n",
              " 'native-country_ Yugoslavia',\n",
              " 'salary_ <=50K',\n",
              " 'salary_ >50K']"
            ]
          },
          "metadata": {},
          "execution_count": 4
        }
      ]
    },
    {
      "cell_type": "code",
      "source": [
        "df.drop([\"salary_ <=50K\", \"sex_ Female\"], axis=1, inplace=True)"
      ],
      "metadata": {
        "id": "fzPMIX7vkJgU"
      },
      "execution_count": 5,
      "outputs": []
    },
    {
      "cell_type": "markdown",
      "source": [
        "# Split the df in source and target domain, hiding sensitive attributes in df2"
      ],
      "metadata": {
        "id": "kpezbLkJdRCX"
      }
    },
    {
      "cell_type": "code",
      "source": [
        "df1 = df.loc[df[\"native-country_ United-States\"] == 1].copy()\n",
        "df2 = df.loc[df[\"native-country_ United-States\"] == 0].copy()\n",
        "df1[\"d\"] = 0\n",
        "df2[\"d\"] = 1\n",
        "\n",
        "true_A2 = df2[\"sex_ Male\"]\n",
        "df2[\"sex_ Male\"] = -1\n",
        "\n",
        "len(df1), len(df2)"
      ],
      "metadata": {
        "id": "dLq2VDwh15R7",
        "colab": {
          "base_uri": "https://localhost:8080/"
        },
        "outputId": "52216da2-3641-48d3-b80c-f71f7d131670"
      },
      "execution_count": 6,
      "outputs": [
        {
          "output_type": "execute_result",
          "data": {
            "text/plain": [
              "(29170, 3391)"
            ]
          },
          "metadata": {},
          "execution_count": 6
        }
      ]
    },
    {
      "cell_type": "markdown",
      "source": [
        "# Defining architecture elements and training step\n"
      ],
      "metadata": {
        "id": "5OAqnyL9Yl6k"
      }
    },
    {
      "cell_type": "code",
      "source": [
        "import torch\n",
        "import torch.nn as nn\n",
        "import torch.optim as optim\n",
        "\n",
        "# Define the feature extractor\n",
        "class FeatureExtractor(nn.Module):\n",
        "    def __init__(self, input_dim, hidden_dim):\n",
        "        super(FeatureExtractor, self).__init__()\n",
        "        self.network = nn.Sequential(\n",
        "            nn.Linear(input_dim, hidden_dim),\n",
        "            nn.ReLU(),\n",
        "            nn.Linear(hidden_dim, hidden_dim),\n",
        "            nn.ReLU()\n",
        "        )\n",
        "\n",
        "    def forward(self, x):\n",
        "        return self.network(x)\n",
        "\n",
        "# Define the classifier\n",
        "class Classifier(nn.Module):\n",
        "    def __init__(self, hidden_dim, output_dim):\n",
        "        super(Classifier, self).__init__()\n",
        "        self.network = nn.Linear(hidden_dim, output_dim)\n",
        "\n",
        "    def forward(self, x):\n",
        "        return self.network(x)\n",
        "\n",
        "# Define the adversary\n",
        "class Adversary(nn.Module):\n",
        "    def __init__(self, hidden_dim, sensitive_attr_dim):\n",
        "        super(Adversary, self).__init__()\n",
        "        self.network = nn.Sequential(\n",
        "            nn.Linear(hidden_dim, hidden_dim),\n",
        "            nn.ReLU(),\n",
        "            nn.Linear(hidden_dim, sensitive_attr_dim)\n",
        "        )\n",
        "\n",
        "    def forward(self, x):\n",
        "        return self.network(x)\n",
        "\n",
        "# Define a function to update the models\n",
        "def train_step(models, optimizers, criterion, x, y, s, alpha, mode):\n",
        "    feature_extractor, classifier, adversary = models\n",
        "    optimizer_fe, optimizer_c, optimizer_a = optimizers\n",
        "\n",
        "    # Zero the parameter gradients\n",
        "    optimizer_fe.zero_grad()\n",
        "    optimizer_c.zero_grad()\n",
        "    optimizer_a.zero_grad()\n",
        "\n",
        "\n",
        "    # Forward pass to compute features\n",
        "    features = feature_extractor(x)\n",
        "\n",
        "    # Classifier loss and update\n",
        "    pred_y = classifier(features.detach())\n",
        "\n",
        "    loss_y = 0\n",
        "    if mode == 1:\n",
        "      if 0 in s:\n",
        "          mask = s == 0\n",
        "          loss_y = criterion(pred_y[mask], y[mask])\n",
        "    else:\n",
        "      loss_y = criterion(pred_y, y)\n",
        "    if loss_y != 0:\n",
        "      loss_y.backward(retain_graph=True)  # Retain graph for subsequent backward pass\n",
        "      optimizer_c.step()\n",
        "\n",
        "\n",
        "\n",
        "    # Adversary loss and update\n",
        "    pred_s = adversary(features.detach())  # Detach to prevent gradients from flowing back to feature_extractor\n",
        "    loss_s = criterion(pred_s, s)\n",
        "    loss_s.backward()\n",
        "    optimizer_a.step()\n",
        "\n",
        "    # Clear gradients for feature extractor update\n",
        "    optimizer_fe.zero_grad()\n",
        "    # Combined loss for feature extractor\n",
        "    # Note: We recalculate pred_s to allow gradients to flow from the adversary prediction\n",
        "    pred_s = adversary(features)\n",
        "    pred_y = classifier(features)\n",
        "\n",
        "    loss_y = 0\n",
        "    if mode == 1:\n",
        "      if 0 in s:\n",
        "          mask = s == 0\n",
        "          loss_y = criterion(pred_y[mask], y[mask])\n",
        "    else:\n",
        "      loss_y = criterion(pred_y, y)\n",
        "\n",
        "    loss_combined = loss_y - alpha * criterion(pred_s, s)\n",
        "\n",
        "    loss_combined.backward()\n",
        "    optimizer_fe.step()\n",
        "\n",
        "    return loss_y.item(), loss_s.item()\n",
        "\n"
      ],
      "metadata": {
        "id": "jiyy85KFVcZy"
      },
      "execution_count": 7,
      "outputs": []
    },
    {
      "cell_type": "code",
      "source": [
        "def train_adversarial_model(epochs, dataloader, models, optimizers, criterion, hp_adversarial, mode):\n",
        "\n",
        "  # Example training loop\n",
        "  for epoch in range(epochs):\n",
        "      running_loss_y = 0.0\n",
        "      running_loss_s = 0.0\n",
        "      for i, data in enumerate(dataloader):\n",
        "          inputs, labels, sensitive_attributes = data\n",
        "\n",
        "          # Convert labels and sensitive attributes to the correct shape and type if necessary\n",
        "          labels = labels.view(-1, 1).float()  # Adjust for BCEWithLogitsLoss\n",
        "          sensitive_attributes = sensitive_attributes.view(-1, 1).float()  # Adjust for BCEWithLogitsLoss\n",
        "\n",
        "          # Training step\n",
        "          loss_y, loss_s = train_step(\n",
        "              models,\n",
        "              optimizers,\n",
        "              criterion, inputs, labels, sensitive_attributes, hp_adversarial,\n",
        "              mode\n",
        "          )\n",
        "\n",
        "          # Update running loss\n",
        "          running_loss_y += loss_y\n",
        "          running_loss_s += loss_s\n",
        "\n",
        "      # Logging\n",
        "      print(f\"Epoch {epoch + 1}, Loss Y: {running_loss_y / len(dataloader)}, Loss S: {running_loss_s / len(dataloader)}\")\n"
      ],
      "metadata": {
        "id": "ABkeUnuFaQe3"
      },
      "execution_count": 8,
      "outputs": []
    },
    {
      "cell_type": "markdown",
      "source": [
        "# Train the domain adaptation part to predict Â2\n",
        "\n",
        "```\n",
        "# This is formatted as code\n",
        "```\n",
        "\n"
      ],
      "metadata": {
        "id": "yIr-YhmWUGvw"
      }
    },
    {
      "cell_type": "code",
      "source": [
        "from torch.utils.data import DataLoader, TensorDataset\n",
        "\n",
        "df_mix = pd.concat([df1, df2])\n",
        "\n",
        "# Assuming 'df' is your pandas DataFrame\n",
        "X1 = df_mix.drop(columns=['salary_ >50K', 'sex_ Male', 'd']).values\n",
        "Y1 = df_mix['sex_ Male'].values\n",
        "A1 = df_mix['d'].values\n",
        "\n",
        "# Convert to PyTorch tensors\n",
        "X1_tensor = torch.tensor(X1, dtype=torch.float32)\n",
        "Y1_tensor = torch.tensor(Y1[:, None], dtype=torch.float32)  # Add an extra dimension to match the expected shape\n",
        "A1_tensor = torch.tensor(A1[:, None], dtype=torch.float32)  # Add an extra dimension\n",
        "\n",
        "# Create a TensorDataset and DataLoader\n",
        "dataset = TensorDataset(X1_tensor, Y1_tensor, A1_tensor)\n",
        "dataloader1 = DataLoader(dataset, batch_size=32, shuffle=True)"
      ],
      "metadata": {
        "id": "Vn4iXFWT71Rs"
      },
      "execution_count": 9,
      "outputs": []
    },
    {
      "cell_type": "code",
      "source": [
        "# Hyperparameters and dimensions\n",
        "input_dim = 107  # Example input dimension, adjust as needed\n",
        "hidden_dim = 64  # Hidden layer size\n",
        "output_dim = 1   # Binary classification\n",
        "sensitive_attr_dim = 1  # Assuming binary sensitive attribute\n",
        "\n",
        "# Instantiate models\n",
        "h1 = FeatureExtractor(input_dim, hidden_dim)\n",
        "s_a_predictor = Classifier(hidden_dim, output_dim)\n",
        "domain_classifier = Adversary(hidden_dim, sensitive_attr_dim)\n",
        "\n",
        "models1 = (h1, s_a_predictor, domain_classifier)\n",
        "\n",
        "# Optimizers\n",
        "optimizer_h1 = optim.RMSprop(h1.parameters(), lr= 0.0001)\n",
        "optimizer_s_a_p= optim.RMSprop(s_a_predictor.parameters(), lr= 0.0001)\n",
        "optimizer_d_c = optim.RMSprop(domain_classifier.parameters(), lr= 0.0001)\n",
        "\n",
        "optimizers1 = (optimizer_h1, optimizer_s_a_p, optimizer_d_c)\n",
        "\n",
        "# Loss function\n",
        "criterion = nn.BCEWithLogitsLoss()\n",
        "\n",
        "alpha = 0.01  # Weight for adversarial loss"
      ],
      "metadata": {
        "id": "6AGEZabwZUW_"
      },
      "execution_count": 10,
      "outputs": []
    },
    {
      "cell_type": "code",
      "source": [
        "epochs = 30\n",
        "\n",
        "train_adversarial_model(epochs, dataloader1, models1, optimizers1, criterion, alpha, 1)"
      ],
      "metadata": {
        "colab": {
          "base_uri": "https://localhost:8080/"
        },
        "outputId": "322e73d7-d759-4350-8bc5-ea1cce346610",
        "id": "P86PNT0ZVfkF"
      },
      "execution_count": 11,
      "outputs": [
        {
          "output_type": "stream",
          "name": "stdout",
          "text": [
            "Epoch 1, Loss Y: 0.6245725642018796, Loss S: 0.34228424577514527\n",
            "Epoch 2, Loss Y: 0.5743255516283639, Loss S: 0.34248154385341056\n",
            "Epoch 3, Loss Y: 0.5313864816675486, Loss S: 0.344154826967386\n",
            "Epoch 4, Loss Y: 0.49015928450642493, Loss S: 0.34505286411343833\n",
            "Epoch 5, Loss Y: 0.45582054701792935, Loss S: 0.3446372425575212\n",
            "Epoch 6, Loss Y: 0.4261260122968312, Loss S: 0.3450705972015272\n",
            "Epoch 7, Loss Y: 0.4053308681121978, Loss S: 0.34530231958229557\n",
            "Epoch 8, Loss Y: 0.3865554313118659, Loss S: 0.34590256881986126\n",
            "Epoch 9, Loss Y: 0.3708979756606117, Loss S: 0.34411363822567204\n",
            "Epoch 10, Loss Y: 0.36043610275962734, Loss S: 0.34356570769328265\n",
            "Epoch 11, Loss Y: 0.34989884224938034, Loss S: 0.3439422819675596\n",
            "Epoch 12, Loss Y: 0.3411113126075338, Loss S: 0.345488194409165\n",
            "Epoch 13, Loss Y: 0.3346946685920764, Loss S: 0.34574201559622303\n",
            "Epoch 14, Loss Y: 0.3286405994112225, Loss S: 0.34599252416585774\n",
            "Epoch 15, Loss Y: 0.322851879057458, Loss S: 0.3481817289579418\n",
            "Epoch 16, Loss Y: 0.32011591663587774, Loss S: 0.3496007249308183\n",
            "Epoch 17, Loss Y: 0.31686464695658806, Loss S: 0.3501013410744241\n",
            "Epoch 18, Loss Y: 0.3158808532509448, Loss S: 0.3493419486429169\n",
            "Epoch 19, Loss Y: 0.3119999197675812, Loss S: 0.35021317726429296\n",
            "Epoch 20, Loss Y: 0.3097724066662999, Loss S: 0.352530293510623\n",
            "Epoch 21, Loss Y: 0.30908167343184145, Loss S: 0.35117058421545505\n",
            "Epoch 22, Loss Y: 0.30884264558846447, Loss S: 0.3523717164601728\n",
            "Epoch 23, Loss Y: 0.30902427428334306, Loss S: 0.3520002023322409\n",
            "Epoch 24, Loss Y: 0.30715513170819386, Loss S: 0.35275918647119947\n",
            "Epoch 25, Loss Y: 0.3067558751842245, Loss S: 0.3537028891991363\n",
            "Epoch 26, Loss Y: 0.305088168152833, Loss S: 0.3532540257800597\n",
            "Epoch 27, Loss Y: 0.30412123664071844, Loss S: 0.3527328594091892\n",
            "Epoch 28, Loss Y: 0.30215980377494706, Loss S: 0.35321175360097046\n",
            "Epoch 29, Loss Y: 0.30387511749135254, Loss S: 0.3531174583320299\n",
            "Epoch 30, Loss Y: 0.302100948403884, Loss S: 0.3528906132089073\n"
          ]
        }
      ]
    },
    {
      "cell_type": "markdown",
      "source": [
        "# Train the Fairness Part now that we can get Â2"
      ],
      "metadata": {
        "id": "mmAmtc8WT63V"
      }
    },
    {
      "cell_type": "code",
      "source": [
        "# Assuming 'df' is your pandas DataFrame\n",
        "X2 = df2.drop(columns=['salary_ >50K', 'sex_ Male', 'd']).values\n",
        "Y2 = df2['salary_ >50K'].values\n",
        "\n",
        "# Convert to PyTorch tensors\n",
        "X2_tensor = torch.tensor(X2, dtype=torch.float32)\n",
        "Y2_tensor = torch.tensor(Y2[:, None], dtype=torch.float32)  # Add an extra dimension to match the expected shape\n",
        "\n"
      ],
      "metadata": {
        "id": "DddfgQoNVUv4"
      },
      "execution_count": 12,
      "outputs": []
    },
    {
      "cell_type": "markdown",
      "source": [
        "### Predict Â2 with the adversarial domain adaptation network we trained"
      ],
      "metadata": {
        "id": "FQhy0YuSe2tf"
      }
    },
    {
      "cell_type": "code",
      "source": [
        "# compute the real A2 for later\n",
        "true_A2_tensor = torch.tensor((true_A2.values)[:, None], dtype=torch.float32)  # Add an extra dimension\n",
        "\n",
        "#compute Â2\n",
        "A2_tensor = (torch.sigmoid(s_a_predictor(h1(X2_tensor))) > 0.5).int()\n",
        "A2_tensor"
      ],
      "metadata": {
        "colab": {
          "base_uri": "https://localhost:8080/"
        },
        "id": "Ww60eOxYe6t8",
        "outputId": "fe58fd92-2bf0-4269-f4ad-922226eb9180"
      },
      "execution_count": 13,
      "outputs": [
        {
          "output_type": "execute_result",
          "data": {
            "text/plain": [
              "tensor([[0],\n",
              "        [0],\n",
              "        [1],\n",
              "        ...,\n",
              "        [1],\n",
              "        [1],\n",
              "        [0]], dtype=torch.int32)"
            ]
          },
          "metadata": {},
          "execution_count": 13
        }
      ]
    },
    {
      "cell_type": "code",
      "source": [
        "# Create a TensorDataset and DataLoader\n",
        "dataset = TensorDataset(X2_tensor, Y2_tensor, A2_tensor)\n",
        "dataloader2 = DataLoader(dataset, batch_size=32, shuffle=True)"
      ],
      "metadata": {
        "id": "_Li9pnUIhF7a"
      },
      "execution_count": 14,
      "outputs": []
    },
    {
      "cell_type": "code",
      "source": [
        "# Hyperparameters and dimensions\n",
        "input_dim = 107  # Example input dimension, adjust as needed\n",
        "hidden_dim = 64  # Hidden layer size\n",
        "output_dim = 1   # Binary classification\n",
        "sensitive_attr_dim = 1  # Assuming binary sensitive attribute\n",
        "\n",
        "# Instantiate models\n",
        "h2 = FeatureExtractor(input_dim, hidden_dim)\n",
        "label_predictor = Classifier(hidden_dim, output_dim)\n",
        "bias_predictor = Adversary(hidden_dim, sensitive_attr_dim)\n",
        "\n",
        "models2 = (h2, label_predictor, bias_predictor)\n",
        "\n",
        "# Optimizers\n",
        "optimizer_h2 = optim.RMSprop(h2.parameters(), lr= 0.0002)\n",
        "optimizer_l_p= optim.RMSprop(label_predictor.parameters(), lr= 0.0002)\n",
        "optimizer_b_p = optim.RMSprop(bias_predictor.parameters(), lr= 0.0002)\n",
        "\n",
        "optimizers2 = (optimizer_h2, optimizer_l_p, optimizer_b_p)\n",
        "\n",
        "# Loss function\n",
        "criterion = nn.BCEWithLogitsLoss()\n",
        "\n",
        "beta = 0.3  # Weight for adversarial loss"
      ],
      "metadata": {
        "id": "Gq9JIlQasIuW"
      },
      "execution_count": 15,
      "outputs": []
    },
    {
      "cell_type": "code",
      "source": [
        "epochs = 300\n",
        "\n",
        "train_adversarial_model(epochs, dataloader2, models2, optimizers2, criterion, beta, 2)"
      ],
      "metadata": {
        "colab": {
          "base_uri": "https://localhost:8080/"
        },
        "id": "6J_nUfM25yaD",
        "outputId": "db25cd23-fe1c-4dde-b3dc-191527a6763f"
      },
      "execution_count": 16,
      "outputs": [
        {
          "output_type": "stream",
          "name": "stdout",
          "text": [
            "Epoch 1, Loss Y: 0.6831061490020662, Loss S: 0.741703858353057\n",
            "Epoch 2, Loss Y: 0.5126694511130171, Loss S: 0.6927883934299901\n",
            "Epoch 3, Loss Y: 0.4891817344809478, Loss S: 0.6943424397482062\n",
            "Epoch 4, Loss Y: 0.4739761069979308, Loss S: 0.6881923546206277\n",
            "Epoch 5, Loss Y: 0.4726821116681369, Loss S: 0.6943013639944904\n",
            "Epoch 6, Loss Y: 0.45183098892558293, Loss S: 0.690676434984747\n",
            "Epoch 7, Loss Y: 0.4511213215454569, Loss S: 0.6921497015458233\n",
            "Epoch 8, Loss Y: 0.44603801490563266, Loss S: 0.692603516128828\n",
            "Epoch 9, Loss Y: 0.42584619881971825, Loss S: 0.6934196352958679\n",
            "Epoch 10, Loss Y: 0.42176645122609047, Loss S: 0.6895025305028232\n",
            "Epoch 11, Loss Y: 0.415592186574666, Loss S: 0.6895635544129137\n",
            "Epoch 12, Loss Y: 0.4059494501858387, Loss S: 0.6918244148200413\n",
            "Epoch 13, Loss Y: 0.40203535451360467, Loss S: 0.6875761989152657\n",
            "Epoch 14, Loss Y: 0.39008041049511927, Loss S: 0.6860610696504701\n",
            "Epoch 15, Loss Y: 0.39126933773733535, Loss S: 0.6908730577747777\n",
            "Epoch 16, Loss Y: 0.3863837529184683, Loss S: 0.688225453192333\n",
            "Epoch 17, Loss Y: 0.3820660627394352, Loss S: 0.6913919167698555\n",
            "Epoch 18, Loss Y: 0.37226165901377517, Loss S: 0.686857726214067\n",
            "Epoch 19, Loss Y: 0.3710786525230363, Loss S: 0.6806249939045816\n",
            "Epoch 20, Loss Y: 0.3604129471306531, Loss S: 0.6836138873730065\n",
            "Epoch 21, Loss Y: 0.37032064612743987, Loss S: 0.6803808054834042\n",
            "Epoch 22, Loss Y: 0.3596911462691595, Loss S: 0.6836482674445746\n",
            "Epoch 23, Loss Y: 0.34975883603658314, Loss S: 0.6824138485035807\n",
            "Epoch 24, Loss Y: 0.35819189714373284, Loss S: 0.6828408713610667\n",
            "Epoch 25, Loss Y: 0.3523846178684594, Loss S: 0.688874918897197\n",
            "Epoch 26, Loss Y: 0.3422768463222486, Loss S: 0.6830001670234608\n",
            "Epoch 27, Loss Y: 0.34640684027997953, Loss S: 0.6827393455325432\n",
            "Epoch 28, Loss Y: 0.34590442309964375, Loss S: 0.686562901960229\n",
            "Epoch 29, Loss Y: 0.3428047106794591, Loss S: 0.6802853598909558\n",
            "Epoch 30, Loss Y: 0.33776463708787596, Loss S: 0.6861228133147618\n",
            "Epoch 31, Loss Y: 0.3448578621840702, Loss S: 0.6766489378686221\n",
            "Epoch 32, Loss Y: 0.34474957108778775, Loss S: 0.6833612210345719\n",
            "Epoch 33, Loss Y: 0.3295881665259037, Loss S: 0.6742917895317078\n",
            "Epoch 34, Loss Y: 0.3342408692499377, Loss S: 0.6767110824584961\n",
            "Epoch 35, Loss Y: 0.3359205534435668, Loss S: 0.6825231516136313\n",
            "Epoch 36, Loss Y: 0.3330960622373617, Loss S: 0.6844589389720053\n",
            "Epoch 37, Loss Y: 0.3341037947333084, Loss S: 0.6846649568035917\n",
            "Epoch 38, Loss Y: 0.3353207119793262, Loss S: 0.6831001971127852\n",
            "Epoch 39, Loss Y: 0.3286599786776417, Loss S: 0.6819831714877542\n",
            "Epoch 40, Loss Y: 0.33066136080701397, Loss S: 0.6818826192954801\n",
            "Epoch 41, Loss Y: 0.32592459641537574, Loss S: 0.6809878591096626\n",
            "Epoch 42, Loss Y: 0.3298946552962627, Loss S: 0.6806044688202301\n",
            "Epoch 43, Loss Y: 0.325529120019022, Loss S: 0.6830764536587697\n",
            "Epoch 44, Loss Y: 0.32026938236546965, Loss S: 0.678280678560149\n",
            "Epoch 45, Loss Y: 0.3224890295345828, Loss S: 0.6740878241242103\n",
            "Epoch 46, Loss Y: 0.32072008640136357, Loss S: 0.6705150525524931\n",
            "Epoch 47, Loss Y: 0.32313111811032835, Loss S: 0.6676322592879241\n",
            "Epoch 48, Loss Y: 0.3187110406469624, Loss S: 0.6704875078966033\n",
            "Epoch 49, Loss Y: 0.3182777928293876, Loss S: 0.6627303915766051\n",
            "Epoch 50, Loss Y: 0.315865603398602, Loss S: 0.6679503226055289\n",
            "Epoch 51, Loss Y: 0.3176314576335673, Loss S: 0.666174052458889\n",
            "Epoch 52, Loss Y: 0.31496151789741694, Loss S: 0.6639432985827608\n",
            "Epoch 53, Loss Y: 0.3169795886947299, Loss S: 0.6630165124276899\n",
            "Epoch 54, Loss Y: 0.32166445571577773, Loss S: 0.6586293021462998\n",
            "Epoch 55, Loss Y: 0.3098473383008309, Loss S: 0.6678689302138563\n",
            "Epoch 56, Loss Y: 0.31622100354365584, Loss S: 0.6543155931076914\n",
            "Epoch 57, Loss Y: 0.3206430657432889, Loss S: 0.660772498486177\n",
            "Epoch 58, Loss Y: 0.31164946421137396, Loss S: 0.6554372974161832\n",
            "Epoch 59, Loss Y: 0.31313626763393293, Loss S: 0.6549633600801792\n",
            "Epoch 60, Loss Y: 0.31101173204633425, Loss S: 0.6523259203389006\n",
            "Epoch 61, Loss Y: 0.31266594889029015, Loss S: 0.6642197657306239\n",
            "Epoch 62, Loss Y: 0.31297619472134786, Loss S: 0.6484240844564618\n",
            "Epoch 63, Loss Y: 0.3125219547523643, Loss S: 0.6569052470742531\n",
            "Epoch 64, Loss Y: 0.30561581605447913, Loss S: 0.6498016259580288\n",
            "Epoch 65, Loss Y: 0.31118870252427067, Loss S: 0.6575106241793003\n",
            "Epoch 66, Loss Y: 0.31403724371262315, Loss S: 0.6648827926167902\n",
            "Epoch 67, Loss Y: 0.30594678307479284, Loss S: 0.6590925308893312\n",
            "Epoch 68, Loss Y: 0.3022444099187851, Loss S: 0.667142113987005\n",
            "Epoch 69, Loss Y: 0.2997502163052559, Loss S: 0.6621920758823179\n",
            "Epoch 70, Loss Y: 0.3080829602648627, Loss S: 0.6554794983481461\n",
            "Epoch 71, Loss Y: 0.30400346739674516, Loss S: 0.6634554227568069\n",
            "Epoch 72, Loss Y: 0.3043459400815784, Loss S: 0.6583516743947875\n",
            "Epoch 73, Loss Y: 0.3065990975724076, Loss S: 0.6628727474302616\n",
            "Epoch 74, Loss Y: 0.3120040112649495, Loss S: 0.6593028509391928\n",
            "Epoch 75, Loss Y: 0.2990352244309659, Loss S: 0.6566413320460409\n",
            "Epoch 76, Loss Y: 0.3078676235844504, Loss S: 0.6612307254998189\n",
            "Epoch 77, Loss Y: 0.3018461447560562, Loss S: 0.654812715244743\n",
            "Epoch 78, Loss Y: 0.30179555264284025, Loss S: 0.659105268289458\n",
            "Epoch 79, Loss Y: 0.3014935142589065, Loss S: 0.6663685986455882\n",
            "Epoch 80, Loss Y: 0.3023576713957877, Loss S: 0.660582572784064\n",
            "Epoch 81, Loss Y: 0.30533996723451706, Loss S: 0.6599618157125869\n",
            "Epoch 82, Loss Y: 0.3041188730946127, Loss S: 0.6605099209074704\n",
            "Epoch 83, Loss Y: 0.3000532494119878, Loss S: 0.6620713972820426\n",
            "Epoch 84, Loss Y: 0.3070617637263154, Loss S: 0.6611028226479044\n",
            "Epoch 85, Loss Y: 0.30549531437034877, Loss S: 0.6538898947666276\n",
            "Epoch 86, Loss Y: 0.2986950518668823, Loss S: 0.6590373932190661\n",
            "Epoch 87, Loss Y: 0.30378695338402156, Loss S: 0.651451621977788\n",
            "Epoch 88, Loss Y: 0.30034532440158557, Loss S: 0.651420754081798\n",
            "Epoch 89, Loss Y: 0.30234008542490454, Loss S: 0.6543945169673776\n",
            "Epoch 90, Loss Y: 0.2962312640024806, Loss S: 0.6540708749924066\n",
            "Epoch 91, Loss Y: 0.3068717846752338, Loss S: 0.6605481123024562\n",
            "Epoch 92, Loss Y: 0.29722056348087655, Loss S: 0.6597819575723612\n",
            "Epoch 93, Loss Y: 0.300511841785233, Loss S: 0.6524563156208902\n",
            "Epoch 94, Loss Y: 0.2997590383549906, Loss S: 0.6551919095921066\n",
            "Epoch 95, Loss Y: 0.2973253305931136, Loss S: 0.6568683318372043\n",
            "Epoch 96, Loss Y: 0.29655648676573104, Loss S: 0.6617394005352596\n",
            "Epoch 97, Loss Y: 0.3012827194805415, Loss S: 0.6558286384591516\n",
            "Epoch 98, Loss Y: 0.29656562012321547, Loss S: 0.6608549485791404\n",
            "Epoch 99, Loss Y: 0.29453884261959, Loss S: 0.6621389956969135\n",
            "Epoch 100, Loss Y: 0.3028536683545922, Loss S: 0.6649605474382076\n",
            "Epoch 101, Loss Y: 0.29551840137760593, Loss S: 0.6634278896282304\n",
            "Epoch 102, Loss Y: 0.3079451131370832, Loss S: 0.662700632270777\n",
            "Epoch 103, Loss Y: 0.2942281108138696, Loss S: 0.6626846593505932\n",
            "Epoch 104, Loss Y: 0.2944269416467199, Loss S: 0.6572502334162874\n",
            "Epoch 105, Loss Y: 0.29826144192297505, Loss S: 0.6532283453446515\n",
            "Epoch 106, Loss Y: 0.2971543692192941, Loss S: 0.6580361127853394\n",
            "Epoch 107, Loss Y: 0.3004010632493586, Loss S: 0.6616599846561\n",
            "Epoch 108, Loss Y: 0.29511368914314035, Loss S: 0.6594507902298333\n",
            "Epoch 109, Loss Y: 0.2927737014614186, Loss S: 0.6586768340389684\n",
            "Epoch 110, Loss Y: 0.301096962167407, Loss S: 0.6633378126711216\n",
            "Epoch 111, Loss Y: 0.29763977173364387, Loss S: 0.6571556689604273\n",
            "Epoch 112, Loss Y: 0.2979023128326209, Loss S: 0.6633122512754405\n",
            "Epoch 113, Loss Y: 0.29261968045864467, Loss S: 0.6601884280735592\n",
            "Epoch 114, Loss Y: 0.28958733161946515, Loss S: 0.6599858001155673\n",
            "Epoch 115, Loss Y: 0.29879942142738486, Loss S: 0.6603591627669785\n",
            "Epoch 116, Loss Y: 0.2985751204333215, Loss S: 0.656194989411336\n",
            "Epoch 117, Loss Y: 0.29724325211542957, Loss S: 0.6573240149695918\n",
            "Epoch 118, Loss Y: 0.2926614278189416, Loss S: 0.6572607182106882\n",
            "Epoch 119, Loss Y: 0.2897942762048739, Loss S: 0.6586926905614026\n",
            "Epoch 120, Loss Y: 0.3007816526125062, Loss S: 0.6575606524381997\n",
            "Epoch 121, Loss Y: 0.2948630542828227, Loss S: 0.6590576526129021\n",
            "Epoch 122, Loss Y: 0.29320315784722006, Loss S: 0.6615208713513501\n",
            "Epoch 123, Loss Y: 0.2943250612830216, Loss S: 0.6515233910308694\n",
            "Epoch 124, Loss Y: 0.2944483422445801, Loss S: 0.656841220158451\n",
            "Epoch 125, Loss Y: 0.29484529336387255, Loss S: 0.6581066430739637\n",
            "Epoch 126, Loss Y: 0.2915371261396498, Loss S: 0.6540466232119866\n",
            "Epoch 127, Loss Y: 0.2911820404653279, Loss S: 0.6518567873621887\n",
            "Epoch 128, Loss Y: 0.2926171178806503, Loss S: 0.6587862333036819\n",
            "Epoch 129, Loss Y: 0.2890578923782088, Loss S: 0.6491802807124156\n",
            "Epoch 130, Loss Y: 0.2935502825761741, Loss S: 0.6528887009283282\n",
            "Epoch 131, Loss Y: 0.2937714843395746, Loss S: 0.6541933878412787\n",
            "Epoch 132, Loss Y: 0.29382621686694754, Loss S: 0.6532771789802695\n",
            "Epoch 133, Loss Y: 0.28897369667044226, Loss S: 0.6464130746306114\n",
            "Epoch 134, Loss Y: 0.2927264368056126, Loss S: 0.6479300207124566\n",
            "Epoch 135, Loss Y: 0.2932978556403574, Loss S: 0.6438730645854518\n",
            "Epoch 136, Loss Y: 0.289257315743082, Loss S: 0.6486121078707138\n",
            "Epoch 137, Loss Y: 0.29169671827892085, Loss S: 0.645971953587712\n",
            "Epoch 138, Loss Y: 0.2936521116995586, Loss S: 0.6456780889124241\n",
            "Epoch 139, Loss Y: 0.29016884219533995, Loss S: 0.6416308750521462\n",
            "Epoch 140, Loss Y: 0.2913729714335136, Loss S: 0.6450367890438944\n",
            "Epoch 141, Loss Y: 0.2876306692806055, Loss S: 0.6516145785462182\n",
            "Epoch 142, Loss Y: 0.28783259090949903, Loss S: 0.6448059947985523\n",
            "Epoch 143, Loss Y: 0.28796248348816383, Loss S: 0.6456617414951324\n",
            "Epoch 144, Loss Y: 0.2905712327304876, Loss S: 0.6472109792367468\n",
            "Epoch 145, Loss Y: 0.2846688164995526, Loss S: 0.6468665121861223\n",
            "Epoch 146, Loss Y: 0.2915791069983311, Loss S: 0.649307204305001\n",
            "Epoch 147, Loss Y: 0.28774598803160323, Loss S: 0.6469439200635226\n",
            "Epoch 148, Loss Y: 0.29443037769985647, Loss S: 0.6515937649978781\n",
            "Epoch 149, Loss Y: 0.28912346015842455, Loss S: 0.6479591159325726\n",
            "Epoch 150, Loss Y: 0.28915414642894044, Loss S: 0.6470636815394996\n",
            "Epoch 151, Loss Y: 0.2917736257022282, Loss S: 0.6469425373482254\n",
            "Epoch 152, Loss Y: 0.2901774925302784, Loss S: 0.648799144996787\n",
            "Epoch 153, Loss Y: 0.2937631700539364, Loss S: 0.6458969453595719\n",
            "Epoch 154, Loss Y: 0.29120083455488366, Loss S: 0.6502398044433234\n",
            "Epoch 155, Loss Y: 0.2933784139887342, Loss S: 0.6511663322178822\n",
            "Epoch 156, Loss Y: 0.2876368288723928, Loss S: 0.6510648170732102\n",
            "Epoch 157, Loss Y: 0.29323739199987, Loss S: 0.6502556171057359\n",
            "Epoch 158, Loss Y: 0.29445780940213295, Loss S: 0.6550692204596862\n",
            "Epoch 159, Loss Y: 0.29053141717922015, Loss S: 0.6518615068129774\n",
            "Epoch 160, Loss Y: 0.28790356436709186, Loss S: 0.6521267924668654\n",
            "Epoch 161, Loss Y: 0.2924321043603825, Loss S: 0.6545293606677145\n",
            "Epoch 162, Loss Y: 0.2934715753456332, Loss S: 0.6480799176782932\n",
            "Epoch 163, Loss Y: 0.29204532911755005, Loss S: 0.653962254805385\n",
            "Epoch 164, Loss Y: 0.29143908999438556, Loss S: 0.6481201772419911\n",
            "Epoch 165, Loss Y: 0.291108777289683, Loss S: 0.6533992717850883\n",
            "Epoch 166, Loss Y: 0.28802257059317715, Loss S: 0.6466486785771712\n",
            "Epoch 167, Loss Y: 0.29441438404456627, Loss S: 0.649476983074872\n",
            "Epoch 168, Loss Y: 0.2853483078333567, Loss S: 0.6506033778752921\n",
            "Epoch 169, Loss Y: 0.29190601633404784, Loss S: 0.6484784185886383\n",
            "Epoch 170, Loss Y: 0.2937335863990604, Loss S: 0.6537809439425198\n",
            "Epoch 171, Loss Y: 0.2904210666299991, Loss S: 0.6473480758239638\n",
            "Epoch 172, Loss Y: 0.2916471536429423, Loss S: 0.6512757432910631\n",
            "Epoch 173, Loss Y: 0.2915414794576618, Loss S: 0.6522814698939053\n",
            "Epoch 174, Loss Y: 0.2902810501883615, Loss S: 0.6500905954612876\n",
            "Epoch 175, Loss Y: 0.28898588504712536, Loss S: 0.645829144232678\n",
            "Epoch 176, Loss Y: 0.288749598107248, Loss S: 0.6503205451200593\n",
            "Epoch 177, Loss Y: 0.2894978907732469, Loss S: 0.6502633018876022\n",
            "Epoch 178, Loss Y: 0.29024843913766574, Loss S: 0.6493218906645505\n",
            "Epoch 179, Loss Y: 0.28674801685056595, Loss S: 0.6486954253237203\n",
            "Epoch 180, Loss Y: 0.2885185664273658, Loss S: 0.6506331130018774\n",
            "Epoch 181, Loss Y: 0.2906499937317281, Loss S: 0.6528396218452813\n",
            "Epoch 182, Loss Y: 0.2904277389763661, Loss S: 0.6474756907741979\n",
            "Epoch 183, Loss Y: 0.290303665090282, Loss S: 0.6518708563075876\n",
            "Epoch 184, Loss Y: 0.29009191895712094, Loss S: 0.6506555794544939\n",
            "Epoch 185, Loss Y: 0.2866885666999052, Loss S: 0.6489826778195938\n",
            "Epoch 186, Loss Y: 0.2861634850642591, Loss S: 0.6496236616710447\n",
            "Epoch 187, Loss Y: 0.29072349015974774, Loss S: 0.6511381808316933\n",
            "Epoch 188, Loss Y: 0.2861581858739538, Loss S: 0.647117129474316\n",
            "Epoch 189, Loss Y: 0.28345085575052026, Loss S: 0.6510868505486902\n",
            "Epoch 190, Loss Y: 0.2867333931883551, Loss S: 0.6564342958747216\n",
            "Epoch 191, Loss Y: 0.2858751530073724, Loss S: 0.6507144401658256\n",
            "Epoch 192, Loss Y: 0.28561634507100536, Loss S: 0.658128523601676\n",
            "Epoch 193, Loss Y: 0.28717087483349835, Loss S: 0.6502566950501136\n",
            "Epoch 194, Loss Y: 0.28664277163597773, Loss S: 0.6528024892762022\n",
            "Epoch 195, Loss Y: 0.2902535216285373, Loss S: 0.655731349902333\n",
            "Epoch 196, Loss Y: 0.2823752913413183, Loss S: 0.6528682838071067\n",
            "Epoch 197, Loss Y: 0.2852682681437933, Loss S: 0.6543321693843266\n",
            "Epoch 198, Loss Y: 0.28762400779381114, Loss S: 0.6563360868197567\n",
            "Epoch 199, Loss Y: 0.28761458664007905, Loss S: 0.6566776734478069\n",
            "Epoch 200, Loss Y: 0.2855715902065331, Loss S: 0.6562190719370572\n",
            "Epoch 201, Loss Y: 0.2884392015073659, Loss S: 0.6561228211195964\n",
            "Epoch 202, Loss Y: 0.2842595872451674, Loss S: 0.6521790944180399\n",
            "Epoch 203, Loss Y: 0.2874936845223859, Loss S: 0.6584450073961942\n",
            "Epoch 204, Loss Y: 0.28282147463200225, Loss S: 0.6544890485282214\n",
            "Epoch 205, Loss Y: 0.2871401903904834, Loss S: 0.6617521115069119\n",
            "Epoch 206, Loss Y: 0.2851936214796777, Loss S: 0.6596482384879634\n",
            "Epoch 207, Loss Y: 0.288112767813903, Loss S: 0.6598975112978017\n",
            "Epoch 208, Loss Y: 0.28346632772459174, Loss S: 0.65490626557818\n",
            "Epoch 209, Loss Y: 0.28390111914783156, Loss S: 0.6599079482960251\n",
            "Epoch 210, Loss Y: 0.28484520105258476, Loss S: 0.6587716512522608\n",
            "Epoch 211, Loss Y: 0.2849975231824056, Loss S: 0.6570094410540923\n",
            "Epoch 212, Loss Y: 0.2866009992529761, Loss S: 0.6616696034962276\n",
            "Epoch 213, Loss Y: 0.28810847072668794, Loss S: 0.6547744923605109\n",
            "Epoch 214, Loss Y: 0.2868004827848021, Loss S: 0.6613438877294648\n",
            "Epoch 215, Loss Y: 0.2842421200618429, Loss S: 0.6542435760767955\n",
            "Epoch 216, Loss Y: 0.28447246895927303, Loss S: 0.6623500450602118\n",
            "Epoch 217, Loss Y: 0.2834265185695774, Loss S: 0.6587768371375102\n",
            "Epoch 218, Loss Y: 0.28579614423918276, Loss S: 0.6547106931794364\n",
            "Epoch 219, Loss Y: 0.2846893883257542, Loss S: 0.6564534202499209\n",
            "Epoch 220, Loss Y: 0.28252229973111515, Loss S: 0.6603845324156419\n",
            "Epoch 221, Loss Y: 0.28489316437604295, Loss S: 0.654555266758181\n",
            "Epoch 222, Loss Y: 0.28058906377486464, Loss S: 0.6540226615824789\n",
            "Epoch 223, Loss Y: 0.28118535700552866, Loss S: 0.6577399195927494\n",
            "Epoch 224, Loss Y: 0.28094358137756026, Loss S: 0.6573857153361699\n",
            "Epoch 225, Loss Y: 0.28292873319027556, Loss S: 0.6590575634870889\n",
            "Epoch 226, Loss Y: 0.28139938934231706, Loss S: 0.6530250684832627\n",
            "Epoch 227, Loss Y: 0.2830526430230096, Loss S: 0.6550318936132035\n",
            "Epoch 228, Loss Y: 0.28647583357568057, Loss S: 0.6631251506085666\n",
            "Epoch 229, Loss Y: 0.28202304609541623, Loss S: 0.6575971689988982\n",
            "Epoch 230, Loss Y: 0.28484110337383345, Loss S: 0.6603793484984704\n",
            "Epoch 231, Loss Y: 0.2803007775460774, Loss S: 0.6545759737491608\n",
            "Epoch 232, Loss Y: 0.2803277216570557, Loss S: 0.6581667937197775\n",
            "Epoch 233, Loss Y: 0.28392369925694644, Loss S: 0.6515165662990426\n",
            "Epoch 234, Loss Y: 0.28286360028498575, Loss S: 0.653234562783871\n",
            "Epoch 235, Loss Y: 0.28095809510856307, Loss S: 0.6577355496163638\n",
            "Epoch 236, Loss Y: 0.2798877750646393, Loss S: 0.6538872699130256\n",
            "Epoch 237, Loss Y: 0.28621884533819164, Loss S: 0.6579883447233236\n",
            "Epoch 238, Loss Y: 0.2828506514570623, Loss S: 0.6511583539112559\n",
            "Epoch 239, Loss Y: 0.2834299695941637, Loss S: 0.6539120665698681\n",
            "Epoch 240, Loss Y: 0.28226370624495, Loss S: 0.6605469843126693\n",
            "Epoch 241, Loss Y: 0.2830637313847272, Loss S: 0.6521636554092731\n",
            "Epoch 242, Loss Y: 0.2811659102169973, Loss S: 0.6565556436214807\n",
            "Epoch 243, Loss Y: 0.27726178222669745, Loss S: 0.6540753059792068\n",
            "Epoch 244, Loss Y: 0.2847168088521598, Loss S: 0.6530910505438751\n",
            "Epoch 245, Loss Y: 0.2798935561528746, Loss S: 0.6598336921547944\n",
            "Epoch 246, Loss Y: 0.28182425813854867, Loss S: 0.658289799150431\n",
            "Epoch 247, Loss Y: 0.28198832800647, Loss S: 0.655417060514666\n",
            "Epoch 248, Loss Y: 0.2834801902326773, Loss S: 0.6570497807466759\n",
            "Epoch 249, Loss Y: 0.2795528405398693, Loss S: 0.653352141661464\n",
            "Epoch 250, Loss Y: 0.28399067336939415, Loss S: 0.6621704202777935\n",
            "Epoch 251, Loss Y: 0.28195263234511864, Loss S: 0.6552864088202422\n",
            "Epoch 252, Loss Y: 0.28325110013192556, Loss S: 0.6643929548983304\n",
            "Epoch 253, Loss Y: 0.2845169095638788, Loss S: 0.6605442219747687\n",
            "Epoch 254, Loss Y: 0.28111300610427586, Loss S: 0.6623959305151453\n",
            "Epoch 255, Loss Y: 0.2830552368090962, Loss S: 0.6598359441982126\n",
            "Epoch 256, Loss Y: 0.28212681975004805, Loss S: 0.6575989141216818\n",
            "Epoch 257, Loss Y: 0.2835379424944239, Loss S: 0.6520749254609054\n",
            "Epoch 258, Loss Y: 0.2815198375369018, Loss S: 0.6543774143704828\n",
            "Epoch 259, Loss Y: 0.28198940110094145, Loss S: 0.6510891413913583\n",
            "Epoch 260, Loss Y: 0.2808452012403956, Loss S: 0.6535907854449075\n",
            "Epoch 261, Loss Y: 0.27877836358153596, Loss S: 0.6537988787552096\n",
            "Epoch 262, Loss Y: 0.28132828156340794, Loss S: 0.6533366076226504\n",
            "Epoch 263, Loss Y: 0.283560288331981, Loss S: 0.6515634841514084\n",
            "Epoch 264, Loss Y: 0.281868207426566, Loss S: 0.6563952528643158\n",
            "Epoch 265, Loss Y: 0.28396035723809926, Loss S: 0.6490089741517913\n",
            "Epoch 266, Loss Y: 0.27777504112641765, Loss S: 0.6525941181857631\n",
            "Epoch 267, Loss Y: 0.2811779582275535, Loss S: 0.6537358670864465\n",
            "Epoch 268, Loss Y: 0.27777006315453995, Loss S: 0.6504475406880649\n",
            "Epoch 269, Loss Y: 0.2801086911755913, Loss S: 0.6535649485183213\n",
            "Epoch 270, Loss Y: 0.2805721631871079, Loss S: 0.6543530596877044\n",
            "Epoch 271, Loss Y: 0.280030784952753, Loss S: 0.6552382207141733\n",
            "Epoch 272, Loss Y: 0.2806047254927316, Loss S: 0.648553174059346\n",
            "Epoch 273, Loss Y: 0.27898521826795813, Loss S: 0.6570171893767591\n",
            "Epoch 274, Loss Y: 0.2800698088446878, Loss S: 0.6478906296334177\n",
            "Epoch 275, Loss Y: 0.28325909446432906, Loss S: 0.6493475510264343\n",
            "Epoch 276, Loss Y: 0.2786415289595442, Loss S: 0.6514176006587047\n",
            "Epoch 277, Loss Y: 0.2764475905810887, Loss S: 0.6578761446026137\n",
            "Epoch 278, Loss Y: 0.2777834217643963, Loss S: 0.6482965906835952\n",
            "Epoch 279, Loss Y: 0.2810081644159443, Loss S: 0.6510549024590906\n",
            "Epoch 280, Loss Y: 0.2824250854692369, Loss S: 0.6495190049117466\n",
            "Epoch 281, Loss Y: 0.28045003263736673, Loss S: 0.6563766486239884\n",
            "Epoch 282, Loss Y: 0.27479308274275854, Loss S: 0.6562332994533036\n",
            "Epoch 283, Loss Y: 0.2799683315855152, Loss S: 0.6661918613145936\n",
            "Epoch 284, Loss Y: 0.28257728171236113, Loss S: 0.6565189400933823\n",
            "Epoch 285, Loss Y: 0.2789733325535396, Loss S: 0.6603656532067173\n",
            "Epoch 286, Loss Y: 0.27746021628098666, Loss S: 0.6584118503444599\n",
            "Epoch 287, Loss Y: 0.277905745888656, Loss S: 0.6664388483425356\n",
            "Epoch 288, Loss Y: 0.2783701684115068, Loss S: 0.663698008600271\n",
            "Epoch 289, Loss Y: 0.2770954860409476, Loss S: 0.6703706200955049\n",
            "Epoch 290, Loss Y: 0.2787003325966169, Loss S: 0.6574432377545338\n",
            "Epoch 291, Loss Y: 0.28007881649119676, Loss S: 0.6668058498850409\n",
            "Epoch 292, Loss Y: 0.2805527781118762, Loss S: 0.6733499458938275\n",
            "Epoch 293, Loss Y: 0.2803642098212017, Loss S: 0.6677782513060659\n",
            "Epoch 294, Loss Y: 0.27772058680091266, Loss S: 0.664752186469312\n",
            "Epoch 295, Loss Y: 0.27635855234737666, Loss S: 0.6731389997140417\n",
            "Epoch 296, Loss Y: 0.2805809094658438, Loss S: 0.6661885791229751\n",
            "Epoch 297, Loss Y: 0.2747776681943884, Loss S: 0.6632936624985821\n",
            "Epoch 298, Loss Y: 0.2766190249261991, Loss S: 0.6670483108961357\n",
            "Epoch 299, Loss Y: 0.27840671224414176, Loss S: 0.6724982846458003\n",
            "Epoch 300, Loss Y: 0.27923861195175154, Loss S: 0.6726070625602074\n"
          ]
        }
      ]
    },
    {
      "cell_type": "markdown",
      "source": [
        "# Evaluation\n"
      ],
      "metadata": {
        "id": "2hx-jRaczAB2"
      }
    },
    {
      "cell_type": "code",
      "source": [
        "predictions = label_predictor(h2(X2_tensor))\n",
        "\n",
        "predictions_binary = (predictions > 0.5).float()  # Convert to binary predictions\n",
        "acc = accuracy_score(Y2_tensor, predictions_binary)\n",
        "f1 = f1_score(Y2_tensor, predictions_binary)\n",
        "acc, f1"
      ],
      "metadata": {
        "colab": {
          "base_uri": "https://localhost:8080/"
        },
        "id": "RJQaxCc0RCg7",
        "outputId": "5f0c58f4-4802-49c5-f779-c4a092822a93"
      },
      "execution_count": 17,
      "outputs": [
        {
          "output_type": "execute_result",
          "data": {
            "text/plain": [
              "(0.8475375995281628, 0.4009269988412515)"
            ]
          },
          "metadata": {},
          "execution_count": 17
        }
      ]
    },
    {
      "cell_type": "code",
      "source": [
        "from fairlearn.metrics import demographic_parity_difference, equalized_odds_difference\n",
        "\n",
        "# Compute DP and EO\n",
        "dp = demographic_parity_difference(Y2_tensor, predictions_binary, sensitive_features=true_A2_tensor)\n",
        "eo = equalized_odds_difference(Y2_tensor, predictions_binary, sensitive_features=true_A2_tensor)\n",
        "dp,eo"
      ],
      "metadata": {
        "colab": {
          "base_uri": "https://localhost:8080/"
        },
        "id": "bUNcjd6F1BVV",
        "outputId": "aa277cee-21e4-44b6-dd91-646538e345d6"
      },
      "execution_count": 19,
      "outputs": [
        {
          "output_type": "execute_result",
          "data": {
            "text/plain": [
              "(0.03784906963960751, 0.004133397519961446)"
            ]
          },
          "metadata": {},
          "execution_count": 19
        }
      ]
    },
    {
      "cell_type": "code",
      "source": [
        "fairda_metrics = [acc, f1, dp, eo]"
      ],
      "metadata": {
        "id": "U3GrtT3UsIJo"
      },
      "execution_count": 20,
      "outputs": []
    },
    {
      "cell_type": "code",
      "source": [
        "print(f\"FairDa result on Adult dataset : \\nacc: {acc}\\nf1: {f1}\\ndp: {dp}\\neo: {eo}\")"
      ],
      "metadata": {
        "colab": {
          "base_uri": "https://localhost:8080/"
        },
        "id": "nuXwhqp-2jaQ",
        "outputId": "6369d4dd-17bf-41db-d415-ed85f9858d08"
      },
      "execution_count": 21,
      "outputs": [
        {
          "output_type": "stream",
          "name": "stdout",
          "text": [
            "FairDa result on Adult dataset : \n",
            "acc: 0.8475375995281628\n",
            "f1: 0.4009269988412515\n",
            "dp: 0.03784906963960751\n",
            "eo: 0.004133397519961446\n"
          ]
        }
      ]
    },
    {
      "cell_type": "markdown",
      "source": [
        "# Train a Vanilla for benchmark"
      ],
      "metadata": {
        "id": "d4t8WIloKz7M"
      }
    },
    {
      "cell_type": "code",
      "source": [
        "import torch\n",
        "from torch.utils.data import DataLoader\n",
        "\n",
        "input_dim = 107  # Example input dimension, adjust as needed\n",
        "hidden_dim = 64  # Hidden layer size\n",
        "output_dim = 1   # Binary classification\n",
        "\n",
        "# Instantiate models\n",
        "feature_extractor = FeatureExtractor(input_dim, hidden_dim)\n",
        "classifier = Classifier(hidden_dim, output_dim)\n",
        "\n",
        "# Define the loss function and optimizer\n",
        "criterion = torch.nn.BCEWithLogitsLoss()\n",
        "optimizer = torch.optim.RMSprop(list(feature_extractor.parameters()) + list(classifier.parameters()), lr=0.0001)\n",
        "# Define a learning rate scheduler\n",
        "scheduler = torch.optim.lr_scheduler.StepLR(optimizer, step_size=10, gamma=0.1)\n",
        "\n",
        "# Define the DataLoader for your dataset\n",
        "train_loader = DataLoader(TensorDataset(X2_tensor, Y2_tensor,), batch_size=32, shuffle=True)\n",
        "\n",
        "# Training loop\n",
        "num_epochs = 100  # Define the number of epochs\n",
        "\n",
        "clip_value = 1.0 # Maximum allowed norm for gradients\n",
        "\n",
        "for epoch in range(num_epochs):\n",
        "    for x, y in train_loader:  # Ignoring sensitive attributes for vanilla training\n",
        "        optimizer.zero_grad()  # Clear previous gradients\n",
        "        features = feature_extractor(x)\n",
        "        predictions = classifier(features)\n",
        "        loss = criterion(predictions, y.view(-1, 1).float())\n",
        "        loss.backward()  # Compute gradients\n",
        "        # Gradient clipping\n",
        "        torch.nn.utils.clip_grad_norm_(list(feature_extractor.parameters()) + list(classifier.parameters()), clip_value)\n",
        "\n",
        "        optimizer.step()  # Update model weights\n",
        "\n",
        "    print(f\"Epoch {epoch+1}, Loss: {loss.item()}\")"
      ],
      "metadata": {
        "colab": {
          "base_uri": "https://localhost:8080/"
        },
        "id": "KubY3Ld_LC35",
        "outputId": "cc1d9df3-2f43-4c1c-bcaf-c0de04c9465e"
      },
      "execution_count": 28,
      "outputs": [
        {
          "output_type": "stream",
          "name": "stdout",
          "text": [
            "Epoch 1, Loss: 0.3684524893760681\n",
            "Epoch 2, Loss: 0.5684723854064941\n",
            "Epoch 3, Loss: 0.5175544023513794\n",
            "Epoch 4, Loss: 0.4307335913181305\n",
            "Epoch 5, Loss: 0.6406301259994507\n",
            "Epoch 6, Loss: 0.5436066389083862\n",
            "Epoch 7, Loss: 0.543087363243103\n",
            "Epoch 8, Loss: 0.5228539705276489\n",
            "Epoch 9, Loss: 0.4462698698043823\n",
            "Epoch 10, Loss: 0.35516899824142456\n",
            "Epoch 11, Loss: 0.32013535499572754\n",
            "Epoch 12, Loss: 0.5220738053321838\n",
            "Epoch 13, Loss: 0.6063972115516663\n",
            "Epoch 14, Loss: 0.7262631058692932\n",
            "Epoch 15, Loss: 0.4971524775028229\n",
            "Epoch 16, Loss: 0.43266284465789795\n",
            "Epoch 17, Loss: 0.44221264123916626\n",
            "Epoch 18, Loss: 0.5493496060371399\n",
            "Epoch 19, Loss: 0.3286898136138916\n",
            "Epoch 20, Loss: 0.3830309510231018\n",
            "Epoch 21, Loss: 0.576054036617279\n",
            "Epoch 22, Loss: 0.40698304772377014\n",
            "Epoch 23, Loss: 0.4009970426559448\n",
            "Epoch 24, Loss: 0.5060322880744934\n",
            "Epoch 25, Loss: 0.30005866289138794\n",
            "Epoch 26, Loss: 0.3599678874015808\n",
            "Epoch 27, Loss: 0.2312154471874237\n",
            "Epoch 28, Loss: 0.4251812994480133\n",
            "Epoch 29, Loss: 0.40528684854507446\n",
            "Epoch 30, Loss: 0.7202007174491882\n",
            "Epoch 31, Loss: 0.3726238012313843\n",
            "Epoch 32, Loss: 0.3947097063064575\n",
            "Epoch 33, Loss: 0.3924994170665741\n",
            "Epoch 34, Loss: 0.4182966649532318\n",
            "Epoch 35, Loss: 0.40892931818962097\n",
            "Epoch 36, Loss: 0.598217248916626\n",
            "Epoch 37, Loss: 0.34519892930984497\n",
            "Epoch 38, Loss: 0.3980506956577301\n",
            "Epoch 39, Loss: 0.31786566972732544\n",
            "Epoch 40, Loss: 0.30528581142425537\n",
            "Epoch 41, Loss: 0.3513757586479187\n",
            "Epoch 42, Loss: 0.19262968003749847\n",
            "Epoch 43, Loss: 0.3732006847858429\n",
            "Epoch 44, Loss: 0.2751118242740631\n",
            "Epoch 45, Loss: 0.3278023302555084\n",
            "Epoch 46, Loss: 0.3631196916103363\n",
            "Epoch 47, Loss: 0.4028763473033905\n",
            "Epoch 48, Loss: 0.43744659423828125\n",
            "Epoch 49, Loss: 0.523642897605896\n",
            "Epoch 50, Loss: 0.5018341541290283\n",
            "Epoch 51, Loss: 0.5436062812805176\n",
            "Epoch 52, Loss: 0.304363489151001\n",
            "Epoch 53, Loss: 0.1646832674741745\n",
            "Epoch 54, Loss: 0.4324505031108856\n",
            "Epoch 55, Loss: 0.4610818922519684\n",
            "Epoch 56, Loss: 0.22677819430828094\n",
            "Epoch 57, Loss: 0.3408914804458618\n",
            "Epoch 58, Loss: 0.2338046431541443\n",
            "Epoch 59, Loss: 0.2641761600971222\n",
            "Epoch 60, Loss: 0.28886839747428894\n",
            "Epoch 61, Loss: 0.45567408204078674\n",
            "Epoch 62, Loss: 0.20722894370555878\n",
            "Epoch 63, Loss: 0.28143057227134705\n",
            "Epoch 64, Loss: 0.4074815511703491\n",
            "Epoch 65, Loss: 0.499561607837677\n",
            "Epoch 66, Loss: 0.35462793707847595\n",
            "Epoch 67, Loss: 0.3407202363014221\n",
            "Epoch 68, Loss: 0.27329763770103455\n",
            "Epoch 69, Loss: 0.2823821008205414\n",
            "Epoch 70, Loss: 0.47511032223701477\n",
            "Epoch 71, Loss: 0.452003538608551\n",
            "Epoch 72, Loss: 0.25158455967903137\n",
            "Epoch 73, Loss: 0.524746298789978\n",
            "Epoch 74, Loss: 0.40480250120162964\n",
            "Epoch 75, Loss: 0.3190552592277527\n",
            "Epoch 76, Loss: 0.48473313450813293\n",
            "Epoch 77, Loss: 0.3847423791885376\n",
            "Epoch 78, Loss: 0.2474605143070221\n",
            "Epoch 79, Loss: 0.4521462619304657\n",
            "Epoch 80, Loss: 0.3540814518928528\n",
            "Epoch 81, Loss: 0.46383732557296753\n",
            "Epoch 82, Loss: 0.5203802585601807\n",
            "Epoch 83, Loss: 0.2692590653896332\n",
            "Epoch 84, Loss: 0.2663050591945648\n",
            "Epoch 85, Loss: 0.35256427526474\n",
            "Epoch 86, Loss: 0.3059273064136505\n",
            "Epoch 87, Loss: 0.13124965131282806\n",
            "Epoch 88, Loss: 0.5065409541130066\n",
            "Epoch 89, Loss: 0.28241294622421265\n",
            "Epoch 90, Loss: 0.4807978570461273\n",
            "Epoch 91, Loss: 0.2653683125972748\n",
            "Epoch 92, Loss: 0.3921307623386383\n",
            "Epoch 93, Loss: 0.29164281487464905\n",
            "Epoch 94, Loss: 0.36906230449676514\n",
            "Epoch 95, Loss: 0.2471383661031723\n",
            "Epoch 96, Loss: 0.31528452038764954\n",
            "Epoch 97, Loss: 0.20560066401958466\n",
            "Epoch 98, Loss: 0.3287457227706909\n",
            "Epoch 99, Loss: 0.686071515083313\n",
            "Epoch 100, Loss: 0.4512297213077545\n"
          ]
        }
      ]
    },
    {
      "cell_type": "code",
      "source": [
        "from sklearn.metrics import accuracy_score, f1_score\n",
        "\n",
        "predictions = classifier(feature_extractor(X2_tensor))\n",
        "\n",
        "predictions_binary = (predictions > 0.5).float()  # Convert to binary predictions\n",
        "acc = accuracy_score(Y2_tensor, predictions_binary)\n",
        "f1 = f1_score(Y2_tensor, predictions_binary)\n",
        "acc, f1"
      ],
      "metadata": {
        "colab": {
          "base_uri": "https://localhost:8080/"
        },
        "id": "EVR5lSagjc6f",
        "outputId": "23628f3a-d37b-44aa-f14e-ffda28304ae9"
      },
      "execution_count": 29,
      "outputs": [
        {
          "output_type": "execute_result",
          "data": {
            "text/plain": [
              "(0.865526393394279, 0.5555555555555556)"
            ]
          },
          "metadata": {},
          "execution_count": 29
        }
      ]
    },
    {
      "cell_type": "code",
      "source": [
        "from fairlearn.metrics import demographic_parity_difference, equalized_odds_difference\n",
        "\n",
        "# Compute DP and EO\n",
        "dp = demographic_parity_difference(Y2_tensor, predictions_binary, sensitive_features=true_A2_tensor)\n",
        "eo = equalized_odds_difference(Y2_tensor, predictions_binary, sensitive_features=true_A2_tensor)\n",
        "dp,eo"
      ],
      "metadata": {
        "colab": {
          "base_uri": "https://localhost:8080/"
        },
        "id": "ZCzlQQTupPdQ",
        "outputId": "4147e236-8d0d-413c-f038-8c827f7576ae"
      },
      "execution_count": 30,
      "outputs": [
        {
          "output_type": "execute_result",
          "data": {
            "text/plain": [
              "(0.11812581226529573, 0.28377682973390217)"
            ]
          },
          "metadata": {},
          "execution_count": 30
        }
      ]
    },
    {
      "cell_type": "code",
      "source": [
        "vanilla_metrics = [acc, f1, dp, eo]"
      ],
      "metadata": {
        "id": "0LHakcWVsNbk"
      },
      "execution_count": 31,
      "outputs": []
    },
    {
      "cell_type": "code",
      "source": [
        "print(f\"Vanilla result on Adult dataset : \\nacc: {acc}\\nf1: {f1}\\ndp: {dp}\\neo: {eo}\")"
      ],
      "metadata": {
        "colab": {
          "base_uri": "https://localhost:8080/"
        },
        "id": "0Z_FWtcHrhIg",
        "outputId": "5cd412be-0cdb-4962-9376-9b89bfb56645"
      },
      "execution_count": 32,
      "outputs": [
        {
          "output_type": "stream",
          "name": "stdout",
          "text": [
            "Vanilla result on Adult dataset : \n",
            "acc: 0.865526393394279\n",
            "f1: 0.5555555555555556\n",
            "dp: 0.11812581226529573\n",
            "eo: 0.28377682973390217\n"
          ]
        }
      ]
    },
    {
      "cell_type": "code",
      "source": [
        "pd.DataFrame([fairda_metrics, vanilla_metrics], columns= [\"accuracy\", \"f1_score\", \"demographic_parity\", \"equal_odds\"], index = [\"FairDA\", \"Vanilla\"])"
      ],
      "metadata": {
        "colab": {
          "base_uri": "https://localhost:8080/",
          "height": 112
        },
        "id": "TVaVW1Z3sP20",
        "outputId": "30923d2d-705d-41a8-f563-e5e11fd8ed79"
      },
      "execution_count": 33,
      "outputs": [
        {
          "output_type": "execute_result",
          "data": {
            "text/plain": [
              "         accuracy  f1_score  demographic_parity  equal_odds\n",
              "FairDA   0.847538  0.400927            0.037849    0.004133\n",
              "Vanilla  0.865526  0.555556            0.118126    0.283777"
            ],
            "text/html": [
              "\n",
              "  <div id=\"df-b22ba554-3e42-4b8a-a081-2176d78fb4fc\" class=\"colab-df-container\">\n",
              "    <div>\n",
              "<style scoped>\n",
              "    .dataframe tbody tr th:only-of-type {\n",
              "        vertical-align: middle;\n",
              "    }\n",
              "\n",
              "    .dataframe tbody tr th {\n",
              "        vertical-align: top;\n",
              "    }\n",
              "\n",
              "    .dataframe thead th {\n",
              "        text-align: right;\n",
              "    }\n",
              "</style>\n",
              "<table border=\"1\" class=\"dataframe\">\n",
              "  <thead>\n",
              "    <tr style=\"text-align: right;\">\n",
              "      <th></th>\n",
              "      <th>accuracy</th>\n",
              "      <th>f1_score</th>\n",
              "      <th>demographic_parity</th>\n",
              "      <th>equal_odds</th>\n",
              "    </tr>\n",
              "  </thead>\n",
              "  <tbody>\n",
              "    <tr>\n",
              "      <th>FairDA</th>\n",
              "      <td>0.847538</td>\n",
              "      <td>0.400927</td>\n",
              "      <td>0.037849</td>\n",
              "      <td>0.004133</td>\n",
              "    </tr>\n",
              "    <tr>\n",
              "      <th>Vanilla</th>\n",
              "      <td>0.865526</td>\n",
              "      <td>0.555556</td>\n",
              "      <td>0.118126</td>\n",
              "      <td>0.283777</td>\n",
              "    </tr>\n",
              "  </tbody>\n",
              "</table>\n",
              "</div>\n",
              "    <div class=\"colab-df-buttons\">\n",
              "\n",
              "  <div class=\"colab-df-container\">\n",
              "    <button class=\"colab-df-convert\" onclick=\"convertToInteractive('df-b22ba554-3e42-4b8a-a081-2176d78fb4fc')\"\n",
              "            title=\"Convert this dataframe to an interactive table.\"\n",
              "            style=\"display:none;\">\n",
              "\n",
              "  <svg xmlns=\"http://www.w3.org/2000/svg\" height=\"24px\" viewBox=\"0 -960 960 960\">\n",
              "    <path d=\"M120-120v-720h720v720H120Zm60-500h600v-160H180v160Zm220 220h160v-160H400v160Zm0 220h160v-160H400v160ZM180-400h160v-160H180v160Zm440 0h160v-160H620v160ZM180-180h160v-160H180v160Zm440 0h160v-160H620v160Z\"/>\n",
              "  </svg>\n",
              "    </button>\n",
              "\n",
              "  <style>\n",
              "    .colab-df-container {\n",
              "      display:flex;\n",
              "      gap: 12px;\n",
              "    }\n",
              "\n",
              "    .colab-df-convert {\n",
              "      background-color: #E8F0FE;\n",
              "      border: none;\n",
              "      border-radius: 50%;\n",
              "      cursor: pointer;\n",
              "      display: none;\n",
              "      fill: #1967D2;\n",
              "      height: 32px;\n",
              "      padding: 0 0 0 0;\n",
              "      width: 32px;\n",
              "    }\n",
              "\n",
              "    .colab-df-convert:hover {\n",
              "      background-color: #E2EBFA;\n",
              "      box-shadow: 0px 1px 2px rgba(60, 64, 67, 0.3), 0px 1px 3px 1px rgba(60, 64, 67, 0.15);\n",
              "      fill: #174EA6;\n",
              "    }\n",
              "\n",
              "    .colab-df-buttons div {\n",
              "      margin-bottom: 4px;\n",
              "    }\n",
              "\n",
              "    [theme=dark] .colab-df-convert {\n",
              "      background-color: #3B4455;\n",
              "      fill: #D2E3FC;\n",
              "    }\n",
              "\n",
              "    [theme=dark] .colab-df-convert:hover {\n",
              "      background-color: #434B5C;\n",
              "      box-shadow: 0px 1px 3px 1px rgba(0, 0, 0, 0.15);\n",
              "      filter: drop-shadow(0px 1px 2px rgba(0, 0, 0, 0.3));\n",
              "      fill: #FFFFFF;\n",
              "    }\n",
              "  </style>\n",
              "\n",
              "    <script>\n",
              "      const buttonEl =\n",
              "        document.querySelector('#df-b22ba554-3e42-4b8a-a081-2176d78fb4fc button.colab-df-convert');\n",
              "      buttonEl.style.display =\n",
              "        google.colab.kernel.accessAllowed ? 'block' : 'none';\n",
              "\n",
              "      async function convertToInteractive(key) {\n",
              "        const element = document.querySelector('#df-b22ba554-3e42-4b8a-a081-2176d78fb4fc');\n",
              "        const dataTable =\n",
              "          await google.colab.kernel.invokeFunction('convertToInteractive',\n",
              "                                                    [key], {});\n",
              "        if (!dataTable) return;\n",
              "\n",
              "        const docLinkHtml = 'Like what you see? Visit the ' +\n",
              "          '<a target=\"_blank\" href=https://colab.research.google.com/notebooks/data_table.ipynb>data table notebook</a>'\n",
              "          + ' to learn more about interactive tables.';\n",
              "        element.innerHTML = '';\n",
              "        dataTable['output_type'] = 'display_data';\n",
              "        await google.colab.output.renderOutput(dataTable, element);\n",
              "        const docLink = document.createElement('div');\n",
              "        docLink.innerHTML = docLinkHtml;\n",
              "        element.appendChild(docLink);\n",
              "      }\n",
              "    </script>\n",
              "  </div>\n",
              "\n",
              "\n",
              "<div id=\"df-3e08f60c-82cb-4e66-ba3b-92e814b061d3\">\n",
              "  <button class=\"colab-df-quickchart\" onclick=\"quickchart('df-3e08f60c-82cb-4e66-ba3b-92e814b061d3')\"\n",
              "            title=\"Suggest charts\"\n",
              "            style=\"display:none;\">\n",
              "\n",
              "<svg xmlns=\"http://www.w3.org/2000/svg\" height=\"24px\"viewBox=\"0 0 24 24\"\n",
              "     width=\"24px\">\n",
              "    <g>\n",
              "        <path d=\"M19 3H5c-1.1 0-2 .9-2 2v14c0 1.1.9 2 2 2h14c1.1 0 2-.9 2-2V5c0-1.1-.9-2-2-2zM9 17H7v-7h2v7zm4 0h-2V7h2v10zm4 0h-2v-4h2v4z\"/>\n",
              "    </g>\n",
              "</svg>\n",
              "  </button>\n",
              "\n",
              "<style>\n",
              "  .colab-df-quickchart {\n",
              "      --bg-color: #E8F0FE;\n",
              "      --fill-color: #1967D2;\n",
              "      --hover-bg-color: #E2EBFA;\n",
              "      --hover-fill-color: #174EA6;\n",
              "      --disabled-fill-color: #AAA;\n",
              "      --disabled-bg-color: #DDD;\n",
              "  }\n",
              "\n",
              "  [theme=dark] .colab-df-quickchart {\n",
              "      --bg-color: #3B4455;\n",
              "      --fill-color: #D2E3FC;\n",
              "      --hover-bg-color: #434B5C;\n",
              "      --hover-fill-color: #FFFFFF;\n",
              "      --disabled-bg-color: #3B4455;\n",
              "      --disabled-fill-color: #666;\n",
              "  }\n",
              "\n",
              "  .colab-df-quickchart {\n",
              "    background-color: var(--bg-color);\n",
              "    border: none;\n",
              "    border-radius: 50%;\n",
              "    cursor: pointer;\n",
              "    display: none;\n",
              "    fill: var(--fill-color);\n",
              "    height: 32px;\n",
              "    padding: 0;\n",
              "    width: 32px;\n",
              "  }\n",
              "\n",
              "  .colab-df-quickchart:hover {\n",
              "    background-color: var(--hover-bg-color);\n",
              "    box-shadow: 0 1px 2px rgba(60, 64, 67, 0.3), 0 1px 3px 1px rgba(60, 64, 67, 0.15);\n",
              "    fill: var(--button-hover-fill-color);\n",
              "  }\n",
              "\n",
              "  .colab-df-quickchart-complete:disabled,\n",
              "  .colab-df-quickchart-complete:disabled:hover {\n",
              "    background-color: var(--disabled-bg-color);\n",
              "    fill: var(--disabled-fill-color);\n",
              "    box-shadow: none;\n",
              "  }\n",
              "\n",
              "  .colab-df-spinner {\n",
              "    border: 2px solid var(--fill-color);\n",
              "    border-color: transparent;\n",
              "    border-bottom-color: var(--fill-color);\n",
              "    animation:\n",
              "      spin 1s steps(1) infinite;\n",
              "  }\n",
              "\n",
              "  @keyframes spin {\n",
              "    0% {\n",
              "      border-color: transparent;\n",
              "      border-bottom-color: var(--fill-color);\n",
              "      border-left-color: var(--fill-color);\n",
              "    }\n",
              "    20% {\n",
              "      border-color: transparent;\n",
              "      border-left-color: var(--fill-color);\n",
              "      border-top-color: var(--fill-color);\n",
              "    }\n",
              "    30% {\n",
              "      border-color: transparent;\n",
              "      border-left-color: var(--fill-color);\n",
              "      border-top-color: var(--fill-color);\n",
              "      border-right-color: var(--fill-color);\n",
              "    }\n",
              "    40% {\n",
              "      border-color: transparent;\n",
              "      border-right-color: var(--fill-color);\n",
              "      border-top-color: var(--fill-color);\n",
              "    }\n",
              "    60% {\n",
              "      border-color: transparent;\n",
              "      border-right-color: var(--fill-color);\n",
              "    }\n",
              "    80% {\n",
              "      border-color: transparent;\n",
              "      border-right-color: var(--fill-color);\n",
              "      border-bottom-color: var(--fill-color);\n",
              "    }\n",
              "    90% {\n",
              "      border-color: transparent;\n",
              "      border-bottom-color: var(--fill-color);\n",
              "    }\n",
              "  }\n",
              "</style>\n",
              "\n",
              "  <script>\n",
              "    async function quickchart(key) {\n",
              "      const quickchartButtonEl =\n",
              "        document.querySelector('#' + key + ' button');\n",
              "      quickchartButtonEl.disabled = true;  // To prevent multiple clicks.\n",
              "      quickchartButtonEl.classList.add('colab-df-spinner');\n",
              "      try {\n",
              "        const charts = await google.colab.kernel.invokeFunction(\n",
              "            'suggestCharts', [key], {});\n",
              "      } catch (error) {\n",
              "        console.error('Error during call to suggestCharts:', error);\n",
              "      }\n",
              "      quickchartButtonEl.classList.remove('colab-df-spinner');\n",
              "      quickchartButtonEl.classList.add('colab-df-quickchart-complete');\n",
              "    }\n",
              "    (() => {\n",
              "      let quickchartButtonEl =\n",
              "        document.querySelector('#df-3e08f60c-82cb-4e66-ba3b-92e814b061d3 button');\n",
              "      quickchartButtonEl.style.display =\n",
              "        google.colab.kernel.accessAllowed ? 'block' : 'none';\n",
              "    })();\n",
              "  </script>\n",
              "</div>\n",
              "    </div>\n",
              "  </div>\n"
            ]
          },
          "metadata": {},
          "execution_count": 33
        }
      ]
    }
  ]
}